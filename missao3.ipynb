{
 "cells": [
  {
   "cell_type": "markdown",
   "metadata": {},
   "source": [
    "# <font color='blue'>Data Science Academy - Python Fundamentos - Capítulo 7</font>\n",
    "\n",
    "## Download: http://github.com/dsacademybr"
   ]
  },
  {
   "cell_type": "markdown",
   "metadata": {},
   "source": [
    "## Missão: Implementar um algoritmo para mover um robô do canto superior esquerdo para o canto inferior direito de uma grade."
   ]
  },
  {
   "cell_type": "markdown",
   "metadata": {},
   "source": [
    "## Nível de Dificuldade: Médio"
   ]
  },
  {
   "cell_type": "markdown",
   "metadata": {},
   "source": [
    "## Premissas\n",
    "\n",
    "* Existem restrições de como o robô se move?\n",
    "     * O robô só pode se mover para a direita e para baixo\n",
    "* Algumas células são inválidas (fora dos limites)?\n",
    "     * Sim\n",
    "* Podemos supor que as células inicial e final são células válidas?\n",
    "     * Sim\n",
    "* Isso é uma grade retangular? ou seja, a grade não é irregular?\n",
    "     * Sim\n",
    "* Haverá sempre uma maneira válida para o robô chegar ao canto inferior direito?\n",
    "     * Não, retorno None\n",
    "* Podemos assumir que as entradas são válidas?\n",
    "     * Não\n",
    "* Podemos supor que isso se encaixa na memória?\n",
    "     * Sim"
   ]
  },
  {
   "cell_type": "markdown",
   "metadata": {},
   "source": [
    "## Teste Cases\n",
    "\n",
    "<pre>\n",
    "o = célula válida\n",
    "x = célula inválida\n",
    "\n",
    "   0  1  2  3\n",
    "0  o  o  o  o\n",
    "1  o  x  o  o\n",
    "2  o  o  x  o\n",
    "3  x  o  o  o\n",
    "4  o  o  x  o\n",
    "5  o  o  o  x\n",
    "6  o  x  o  x\n",
    "7  o  x  o  o\n",
    "</pre>\n",
    "\n",
    "* Caso geral\n",
    "\n",
    "```\n",
    "Saída esperada = [(0, 0), (1, 0), (2, 0),\n",
    "                  (2, 1), (3, 1), (4, 1),\n",
    "                  (5, 1), (5, 2), (6, 2), \n",
    "                  (7, 2), (7, 3)]\n",
    "```\n",
    "\n",
    "* Nenhum caminho válido, por exemplo, linha 7, col 2 é inválido\n",
    "* Nenhuma entrada\n",
    "* Matriz vazia"
   ]
  },
  {
   "cell_type": "markdown",
   "metadata": {},
   "source": [
    "## Solução"
   ]
  },
  {
   "cell_type": "code",
   "execution_count": null,
   "metadata": {},
   "outputs": [],
   "source": [
    "class Grid(object):\n",
    "\n",
    "    def find_path(self, matrix):\n",
    "        # Se não informou uma matriz\n",
    "        if matrix == None:\n",
    "            return None\n",
    "        # Se o primeiro elemento da matriz está em branco\n",
    "        if len(matrix[0]) == 0:\n",
    "            return None\n",
    "        # Encontra um caminho até o final da matriz\n",
    "        resultado = self._proxima_posicao(matrix, 0, 0, [])\n",
    "        # Inverte os elementos na lista\n",
    "        retorno = []\n",
    "        for x in resultado[::-1]:\n",
    "            retorno.append(x)\n",
    "        # Se não chegou até a última posição da matriz\n",
    "        if retorno[-1] != (7,3):\n",
    "            return None\n",
    "        return retorno\n",
    "    \n",
    "    def _proxima_posicao(self, matrix, linha_atual, coluna_atual, resultado):\n",
    "        posicao = ()\n",
    "        # Se chegou na última posição da matriz, retorna a última posição\n",
    "        if linha_atual == 7 and coluna_atual == 3:\n",
    "            return resultado.append((7,3))\n",
    "        # Se a linha ou a coluna percorrida ultrapassou o limite da matriz, retorna valor falso\n",
    "        if linha_atual > 7 or coluna_atual > 3:\n",
    "            return False\n",
    "        # Se está na última linha, não deve verificar a linha seguinte\n",
    "        if linha_atual == 7:\n",
    "            if matrix[linha_atual][coluna_atual + 1] == 0:\n",
    "                matrix[linha_atual][coluna_atual] = 0\n",
    "                return False\n",
    "        # Se está na última coluna, não deve verificar a próxima coluna\n",
    "        if coluna_atual == 3:\n",
    "            if matrix[linha_atual + 1][coluna_atual] == 0:\n",
    "                matrix[linha_atual][coluna_atual] = 0\n",
    "                return False\n",
    "        # Se ainda não chegou aos limites da matriz, verifica as próximas posições\n",
    "        if linha_atual < 7 and coluna_atual < 3:\n",
    "            if matrix[linha_atual + 1][coluna_atual] == 0 and matrix[linha_atual][coluna_atual + 1] == 0:\n",
    "                matrix[linha_atual][coluna_atual] = 0\n",
    "                return False\n",
    "        # Se a posição atual é uma poição válida\n",
    "        if matrix[linha_atual][coluna_atual] == 1:\n",
    "            # Se não está na última linha da matriz\n",
    "            if linha_atual < 7:\n",
    "                # Se a posição da próxima linha é válida\n",
    "                if matrix[linha_atual + 1][coluna_atual] == 1:\n",
    "                    # Busca as próximas posições válidas a partir da próxima linha\n",
    "                    posicao = self._proxima_posicao(matrix, linha_atual + 1, coluna_atual, resultado)\n",
    "                    # Se encontrou uma posição válida, retorna as posições encontradas\n",
    "                    if posicao != False:\n",
    "                        posicao = (linha_atual, coluna_atual)\n",
    "                        resultado.append(posicao)\n",
    "                        return resultado\n",
    "            # Se não está na última coluna da matriz\n",
    "            if coluna_atual < 3:\n",
    "                # Se a posição da próxima coluna é váida\n",
    "                if matrix[linha_atual][coluna_atual + 1] == 1:\n",
    "                    # Busca as próximas posições válidas a partir da próxima coluna\n",
    "                    posicao = self._proxima_posicao(matrix, linha_atual, coluna_atual + 1, resultado)\n",
    "                    # Se encontrou uma posição válida, retorna as posições encontradas\n",
    "                    if posicao != False:\n",
    "                        posicao = (linha_atual, coluna_atual)\n",
    "                        resultado.append(posicao)\n",
    "                        return resultado\n",
    "        # Retorna as posições encontradas\n",
    "        return resultado"
   ]
  },
  {
   "cell_type": "markdown",
   "metadata": {},
   "source": [
    "## Teste da Solução"
   ]
  },
  {
   "cell_type": "code",
   "execution_count": null,
   "metadata": {},
   "outputs": [],
   "source": [
    "%%writefile missao3.py\n",
    "from nose.tools import assert_equal\n",
    "\n",
    "\n",
    "class TestGridPath(object):\n",
    "\n",
    "    def test_grid_path(self):\n",
    "        grid = Grid()\n",
    "        assert_equal(grid.find_path(None), None)\n",
    "        assert_equal(grid.find_path([[]]), None)\n",
    "        max_rows = 8\n",
    "        max_cols = 4\n",
    "        matrix = [[1] * max_cols for _ in range(max_rows)]\n",
    "        matrix[1][1] = 0\n",
    "        matrix[2][2] = 0\n",
    "        matrix[3][0] = 0\n",
    "        matrix[4][2] = 0\n",
    "        matrix[5][3] = 0\n",
    "        matrix[6][1] = 0\n",
    "        matrix[6][3] = 0\n",
    "        matrix[7][1] = 0\n",
    "        result = grid.find_path(matrix)\n",
    "        expected = [(0, 0), (1, 0), (2, 0),\n",
    "                    (2, 1), (3, 1), (4, 1),\n",
    "                    (5, 1), (5, 2), (6, 2), \n",
    "                    (7, 2), (7, 3)]\n",
    "        assert_equal(result, expected)\n",
    "        matrix[7][2] = 0\n",
    "        result = grid.find_path(matrix)\n",
    "        assert_equal(result, None)\n",
    "        print('Sua solução foi executada com sucesso! Parabéns!')\n",
    "\n",
    "\n",
    "def main():\n",
    "    test = TestGridPath()\n",
    "    test.test_grid_path()\n",
    "\n",
    "\n",
    "if __name__ == '__main__':\n",
    "    main()"
   ]
  },
  {
   "cell_type": "code",
   "execution_count": null,
   "metadata": {
    "scrolled": true
   },
   "outputs": [],
   "source": [
    "%run -i missao3.py"
   ]
  },
  {
   "cell_type": "markdown",
   "metadata": {},
   "source": [
    "## Fim"
   ]
  },
  {
   "cell_type": "markdown",
   "metadata": {},
   "source": [
    "### Obrigado - Data Science Academy - <a href=\"http://facebook.com/dsacademybr\">facebook.com/dsacademybr</a>"
   ]
  }
 ],
 "metadata": {
  "kernelspec": {
   "display_name": "Python 3",
   "language": "python",
   "name": "python3"
  },
  "language_info": {
   "codemirror_mode": {
    "name": "ipython",
    "version": 3
   },
   "file_extension": ".py",
   "mimetype": "text/x-python",
   "name": "python",
   "nbconvert_exporter": "python",
   "pygments_lexer": "ipython3",
   "version": "3.7.3"
  }
 },
 "nbformat": 4,
 "nbformat_minor": 1
}
